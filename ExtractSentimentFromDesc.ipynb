{
 "cells": [
  {
   "cell_type": "markdown",
   "metadata": {},
   "source": [
    "# Extract Sentiment from Pet Description\n",
    "https://cloud.google.com/natural-language/docs/basics"
   ]
  },
  {
   "cell_type": "code",
   "execution_count": 1,
   "metadata": {},
   "outputs": [],
   "source": [
    "import pandas as pd\n",
    "import numpy as np"
   ]
  },
  {
   "cell_type": "code",
   "execution_count": 3,
   "metadata": {},
   "outputs": [],
   "source": [
    "# read file list\n",
    "import os\n",
    "path = \"petfinder-adoption-prediction/train_sentiment\"\n",
    "file_list = os.listdir(path)"
   ]
  },
  {
   "cell_type": "code",
   "execution_count": 4,
   "metadata": {},
   "outputs": [
    {
     "name": "stdout",
     "output_type": "stream",
     "text": [
      "0008c5398\n",
      "2.8\n",
      "0.7\n"
     ]
    }
   ],
   "source": [
    "#extract score from json\n",
    "import json\n",
    "with open(path+'/'+file_list[0], encoding='utf-8') as json_file:\n",
    "    data = json.loads(json_file.read())\n",
    "    print(file_list[0].split(\".\")[0])\n",
    "    print(data[\"documentSentiment\"][\"magnitude\"])\n",
    "    print(data[\"documentSentiment\"][\"score\"])\n"
   ]
  },
  {
   "cell_type": "code",
   "execution_count": 5,
   "metadata": {},
   "outputs": [],
   "source": [
    "def get_sentiment_from_file(path, file_name):\n",
    "    score = 99999\n",
    "    magnitude = 99999\n",
    "    with open(path+'/'+file_name, encoding='utf-8') as json_file:\n",
    "        data = json.loads(json_file.read())\n",
    "        pet_id = file_name.split(\".\")[0]\n",
    "        magnitude = data[\"documentSentiment\"][\"magnitude\"]\n",
    "        score = data[\"documentSentiment\"][\"score\"]\n",
    "    \n",
    "    return (pet_id, magnitude, score)"
   ]
  },
  {
   "cell_type": "code",
   "execution_count": 6,
   "metadata": {},
   "outputs": [],
   "source": [
    "def get_sentiment(path):\n",
    "#df = pd.DataFrame(columns=[\"PetID\", \"Score\", \"Magnitude\"])\n",
    "    file_list = os.listdir(path)\n",
    "    rows_list = list()\n",
    "    for file_name in file_list:\n",
    "        pet_id, magnitude, score = get_sentiment_from_file(path, file_name)\n",
    "        row = {\"PetID\" : pet_id, \"Score\" : score, \"Magnitude\" : magnitude}\n",
    "        rows_list.append(row)\n",
    "    \n",
    "    df = pd.DataFrame(rows_list)\n",
    "    return df"
   ]
  },
  {
   "cell_type": "code",
   "execution_count": 7,
   "metadata": {},
   "outputs": [],
   "source": [
    "desc_df = get_sentiment(path)"
   ]
  },
  {
   "cell_type": "code",
   "execution_count": 8,
   "metadata": {
    "scrolled": true
   },
   "outputs": [
    {
     "data": {
      "text/html": [
       "<div>\n",
       "<style scoped>\n",
       "    .dataframe tbody tr th:only-of-type {\n",
       "        vertical-align: middle;\n",
       "    }\n",
       "\n",
       "    .dataframe tbody tr th {\n",
       "        vertical-align: top;\n",
       "    }\n",
       "\n",
       "    .dataframe thead th {\n",
       "        text-align: right;\n",
       "    }\n",
       "</style>\n",
       "<table border=\"1\" class=\"dataframe\">\n",
       "  <thead>\n",
       "    <tr style=\"text-align: right;\">\n",
       "      <th></th>\n",
       "      <th>Magnitude</th>\n",
       "      <th>PetID</th>\n",
       "      <th>Score</th>\n",
       "    </tr>\n",
       "  </thead>\n",
       "  <tbody>\n",
       "    <tr>\n",
       "      <th>0</th>\n",
       "      <td>2.8</td>\n",
       "      <td>0008c5398</td>\n",
       "      <td>0.7</td>\n",
       "    </tr>\n",
       "    <tr>\n",
       "      <th>1</th>\n",
       "      <td>0.6</td>\n",
       "      <td>000a290e4</td>\n",
       "      <td>0.3</td>\n",
       "    </tr>\n",
       "    <tr>\n",
       "      <th>2</th>\n",
       "      <td>0.8</td>\n",
       "      <td>000fb9572</td>\n",
       "      <td>0.3</td>\n",
       "    </tr>\n",
       "    <tr>\n",
       "      <th>3</th>\n",
       "      <td>0.8</td>\n",
       "      <td>0011d7c25</td>\n",
       "      <td>0.8</td>\n",
       "    </tr>\n",
       "    <tr>\n",
       "      <th>4</th>\n",
       "      <td>1.8</td>\n",
       "      <td>00156db4a</td>\n",
       "      <td>0.0</td>\n",
       "    </tr>\n",
       "  </tbody>\n",
       "</table>\n",
       "</div>"
      ],
      "text/plain": [
       "   Magnitude      PetID  Score\n",
       "0        2.8  0008c5398    0.7\n",
       "1        0.6  000a290e4    0.3\n",
       "2        0.8  000fb9572    0.3\n",
       "3        0.8  0011d7c25    0.8\n",
       "4        1.8  00156db4a    0.0"
      ]
     },
     "execution_count": 8,
     "metadata": {},
     "output_type": "execute_result"
    }
   ],
   "source": [
    "desc_df.head()"
   ]
  },
  {
   "cell_type": "code",
   "execution_count": 9,
   "metadata": {},
   "outputs": [],
   "source": [
    "# desc_df.to_csv(\"sentiment_train.csv\", encoding='utf-8', index=False)"
   ]
  }
 ],
 "metadata": {
  "kernelspec": {
   "display_name": "Python 3",
   "language": "python",
   "name": "python3"
  },
  "language_info": {
   "codemirror_mode": {
    "name": "ipython",
    "version": 3
   },
   "file_extension": ".py",
   "mimetype": "text/x-python",
   "name": "python",
   "nbconvert_exporter": "python",
   "pygments_lexer": "ipython3",
   "version": "3.7.2"
  }
 },
 "nbformat": 4,
 "nbformat_minor": 2
}
