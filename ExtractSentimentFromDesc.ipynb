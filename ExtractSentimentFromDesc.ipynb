{
 "cells": [
  {
   "cell_type": "markdown",
   "metadata": {},
   "source": [
    "# Extract Sentiment from Pet Description\n",
    "https://cloud.google.com/natural-language/docs/basics"
   ]
  },
  {
   "cell_type": "code",
   "execution_count": 8,
   "metadata": {},
   "outputs": [],
   "source": [
    "import pandas as pd\n",
    "import numpy as np\n",
    "import os\n",
    "import json"
   ]
  },
  {
   "cell_type": "code",
   "execution_count": 3,
   "metadata": {},
   "outputs": [],
   "source": [
    "# read file list\n",
    "\n",
    "path = \"petfinder-adoption-prediction/train_sentiment\"\n",
    "file_list = os.listdir(path)"
   ]
  },
  {
   "cell_type": "code",
   "execution_count": 4,
   "metadata": {},
   "outputs": [
    {
     "name": "stdout",
     "output_type": "stream",
     "text": [
      "0008c5398\n",
      "2.8\n",
      "0.7\n"
     ]
    }
   ],
   "source": [
    "#extract score from json\n",
    "\n",
    "with open(path+'/'+file_list[0], encoding='utf-8') as json_file:\n",
    "    data = json.loads(json_file.read())\n",
    "    print(file_list[0].split(\".\")[0])\n",
    "    print(data[\"documentSentiment\"][\"magnitude\"])\n",
    "    print(data[\"documentSentiment\"][\"score\"])\n"
   ]
  },
  {
   "cell_type": "code",
   "execution_count": 4,
   "metadata": {},
   "outputs": [],
   "source": [
    "def get_sentiment_from_file(path, file_name):\n",
    "    score = 99999\n",
    "    magnitude = 99999\n",
    "    with open(path+'/'+file_name, encoding='utf-8') as json_file:\n",
    "        data = json.loads(json_file.read())\n",
    "        pet_id = file_name.split(\".\")[0]\n",
    "        magnitude = data[\"documentSentiment\"][\"magnitude\"]\n",
    "        score = data[\"documentSentiment\"][\"score\"]\n",
    "    \n",
    "    return (pet_id, magnitude, score)"
   ]
  },
  {
   "cell_type": "code",
   "execution_count": 5,
   "metadata": {},
   "outputs": [],
   "source": [
    "def get_sentiment(path):\n",
    "#df = pd.DataFrame(columns=[\"PetID\", \"Score\", \"Magnitude\"])\n",
    "    file_list = os.listdir(path)\n",
    "    rows_list = list()\n",
    "    for file_name in file_list:\n",
    "        pet_id, magnitude, score = get_sentiment_from_file(path, file_name)\n",
    "        row = {\"PetID\" : pet_id, \"Score\" : score, \"Magnitude\" : magnitude}\n",
    "        rows_list.append(row)\n",
    "    \n",
    "    df = pd.DataFrame(rows_list)\n",
    "    return df"
   ]
  },
  {
   "cell_type": "code",
   "execution_count": 9,
   "metadata": {},
   "outputs": [],
   "source": [
    "path_test = \"petfinder-adoption-prediction/test_sentiment\"\n",
    "desc_df = get_sentiment(path_test)"
   ]
  },
  {
   "cell_type": "code",
   "execution_count": 10,
   "metadata": {
    "scrolled": true
   },
   "outputs": [
    {
     "data": {
      "text/html": [
       "<div>\n",
       "<style scoped>\n",
       "    .dataframe tbody tr th:only-of-type {\n",
       "        vertical-align: middle;\n",
       "    }\n",
       "\n",
       "    .dataframe tbody tr th {\n",
       "        vertical-align: top;\n",
       "    }\n",
       "\n",
       "    .dataframe thead th {\n",
       "        text-align: right;\n",
       "    }\n",
       "</style>\n",
       "<table border=\"1\" class=\"dataframe\">\n",
       "  <thead>\n",
       "    <tr style=\"text-align: right;\">\n",
       "      <th></th>\n",
       "      <th>Magnitude</th>\n",
       "      <th>PetID</th>\n",
       "      <th>Score</th>\n",
       "    </tr>\n",
       "  </thead>\n",
       "  <tbody>\n",
       "    <tr>\n",
       "      <th>0</th>\n",
       "      <td>6.9</td>\n",
       "      <td>000c21f80</td>\n",
       "      <td>0.3</td>\n",
       "    </tr>\n",
       "    <tr>\n",
       "      <th>1</th>\n",
       "      <td>2.9</td>\n",
       "      <td>001ec8d5b</td>\n",
       "      <td>0.4</td>\n",
       "    </tr>\n",
       "    <tr>\n",
       "      <th>2</th>\n",
       "      <td>0.9</td>\n",
       "      <td>002d58f95</td>\n",
       "      <td>0.1</td>\n",
       "    </tr>\n",
       "    <tr>\n",
       "      <th>3</th>\n",
       "      <td>3.2</td>\n",
       "      <td>004682b50</td>\n",
       "      <td>0.2</td>\n",
       "    </tr>\n",
       "    <tr>\n",
       "      <th>4</th>\n",
       "      <td>0.2</td>\n",
       "      <td>0046c1710</td>\n",
       "      <td>0.2</td>\n",
       "    </tr>\n",
       "  </tbody>\n",
       "</table>\n",
       "</div>"
      ],
      "text/plain": [
       "   Magnitude      PetID  Score\n",
       "0        6.9  000c21f80    0.3\n",
       "1        2.9  001ec8d5b    0.4\n",
       "2        0.9  002d58f95    0.1\n",
       "3        3.2  004682b50    0.2\n",
       "4        0.2  0046c1710    0.2"
      ]
     },
     "execution_count": 10,
     "metadata": {},
     "output_type": "execute_result"
    }
   ],
   "source": [
    "desc_df.head()"
   ]
  },
  {
   "cell_type": "code",
   "execution_count": 11,
   "metadata": {},
   "outputs": [],
   "source": [
    "desc_df.to_csv(\"sentiment_test.csv\", encoding='utf-8', index=False)"
   ]
  },
  {
   "cell_type": "code",
   "execution_count": null,
   "metadata": {},
   "outputs": [],
   "source": []
  }
 ],
 "metadata": {
  "kernelspec": {
   "display_name": "Python 3",
   "language": "python",
   "name": "python3"
  },
  "language_info": {
   "codemirror_mode": {
    "name": "ipython",
    "version": 3
   },
   "file_extension": ".py",
   "mimetype": "text/x-python",
   "name": "python",
   "nbconvert_exporter": "python",
   "pygments_lexer": "ipython3",
   "version": "3.7.2"
  }
 },
 "nbformat": 4,
 "nbformat_minor": 2
}
