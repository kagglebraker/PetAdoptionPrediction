{
 "cells": [
  {
   "cell_type": "markdown",
   "metadata": {},
   "source": [
    "# Kaggle Pet Adaptation Prediction\n",
    "\n",
    "site : https://www.kaggle.com/c/petfinder-adoption-prediction"
   ]
  },
  {
   "cell_type": "markdown",
   "metadata": {},
   "source": [
    "## EDA"
   ]
  },
  {
   "cell_type": "code",
   "execution_count": 2,
   "metadata": {},
   "outputs": [],
   "source": [
    "import pandas as pd\n",
    "import numpy as np\n",
    "import seaborn as sns\n",
    "import matplotlib.pyplot as plt"
   ]
  },
  {
   "cell_type": "markdown",
   "metadata": {},
   "source": [
    "### Preprocess Data"
   ]
  },
  {
   "cell_type": "code",
   "execution_count": 4,
   "metadata": {},
   "outputs": [
    {
     "data": {
      "text/plain": [
       "Type               int64\n",
       "Name              object\n",
       "Age                int64\n",
       "Breed1             int64\n",
       "Breed2             int64\n",
       "Gender             int64\n",
       "Color1             int64\n",
       "Color2             int64\n",
       "Color3             int64\n",
       "MaturitySize       int64\n",
       "FurLength          int64\n",
       "Vaccinated         int64\n",
       "Dewormed           int64\n",
       "Sterilized         int64\n",
       "Health             int64\n",
       "Quantity           int64\n",
       "Fee                int64\n",
       "State              int64\n",
       "RescuerID         object\n",
       "VideoAmt           int64\n",
       "Description       object\n",
       "PetID             object\n",
       "PhotoAmt         float64\n",
       "AdoptionSpeed      int64\n",
       "dtype: object"
      ]
     },
     "execution_count": 4,
     "metadata": {},
     "output_type": "execute_result"
    }
   ],
   "source": [
    "pet_data = pd.read_csv('../workspace/data/train.csv')\n",
    "pet_data.dtypes"
   ]
  },
  {
   "cell_type": "code",
   "execution_count": 8,
   "metadata": {},
   "outputs": [
    {
     "data": {
      "text/plain": [
       "<bound method NDFrame.describe of        Type                                 Name  Age  Breed1  Breed2  Gender  \\\n",
       "0         2                               Nibble    3     299       0       1   \n",
       "1         2                          No Name Yet    1     265       0       1   \n",
       "2         1                               Brisco    1     307       0       1   \n",
       "3         1                                 Miko    4     307       0       2   \n",
       "4         1                               Hunter    1     307       0       1   \n",
       "5         2                                  NaN    3     266       0       2   \n",
       "6         2                                BULAT   12     264     264       1   \n",
       "7         1              Siu Pak & Her 6 Puppies    0     307       0       2   \n",
       "8         2                                  NaN    2     265       0       2   \n",
       "9         2                                Kitty   12     265       0       2   \n",
       "10        1                                 Bear    2     307       0       1   \n",
       "11        2                                 Kali    3     264       0       2   \n",
       "12        1                               Peanut    2     307       0       1   \n",
       "13        2              2 Mths Old Cute Kitties    2     265       0       3   \n",
       "14        1                             Lost Dog    3     307       0       2   \n",
       "15        1                                  Max   78     218     205       1   \n",
       "16        2                              Brownie    6     266       0       2   \n",
       "17        1                              Blackie    8     307     307       2   \n",
       "18        1                               Beauty    2     307       0       2   \n",
       "19        2                                  NaN    1     266       0       3   \n",
       "20        1                               Godiva   12     307       0       2   \n",
       "21        1                               Tigers    3     307       0       2   \n",
       "22        2    Kenit, Kenot, Techit, Keyad, Owen    0     114       0       3   \n",
       "23        1                                Donut   10     307     117       2   \n",
       "24        2                              Cikenet    3     266       0       1   \n",
       "25        2                             Garfield   36     285     251       1   \n",
       "26        2                              No Name    2     285     265       1   \n",
       "27        2                              No Name    1     266       0       2   \n",
       "28        1                               Hunter   14     189       0       1   \n",
       "29        2                               Pepper    1     266       0       2   \n",
       "...     ...                                  ...  ...     ...     ...     ...   \n",
       "14963     2                              Boceyyy    6     276       0       1   \n",
       "14964     2                                Panbe   36     265       0       1   \n",
       "14965     2                                Manis    2     266       0       2   \n",
       "14966     2                               Belang    1     265       0       1   \n",
       "14967     2                              Doremon   24     265       0       2   \n",
       "14968     2                      Sentul Kittiens    2     266       0       3   \n",
       "14969     2                               Tommie   10     266       0       1   \n",
       "14970     1              KL Puppies For Adoption    2     307       0       2   \n",
       "14971     2                                Omari    5     265       0       1   \n",
       "14972     2                         Kofi (annan)    2     266       0       1   \n",
       "14973     1                                 Zee4    2     307     307       2   \n",
       "14974     1                              Ang Ang    2     307       0       1   \n",
       "14975     1                               Wormmy   24     307       0       2   \n",
       "14976     2                        Cici N Shelly   84     264     264       3   \n",
       "14977     2                               Kimchi    3     254       0       2   \n",
       "14978     1                                Ethio    4     307       0       2   \n",
       "14979     1                             SambaBoy    6     307       0       1   \n",
       "14980     1                                Bella   24     307     307       2   \n",
       "14981     1                                Patch    8     307       0       2   \n",
       "14982     2                 âªMami's Babies âª    2     266       0       2   \n",
       "14983     1                                Alger    3     307       0       1   \n",
       "14984     1                                  NaN   60     307       0       2   \n",
       "14985     1                                Terry   24     179     307       1   \n",
       "14986     2  Pets + Strays : BlueEyed BlackWhite    1     266       0       2   \n",
       "14987     1                                Snowy    6     195       0       2   \n",
       "14988     2                                  NaN    2     266       0       3   \n",
       "14989     2                       Serato & Eddie   60     265     264       3   \n",
       "14990     2                              Monkies    2     265     266       3   \n",
       "14991     2                              Ms Daym    9     266       0       2   \n",
       "14992     1                                 Fili    1     307     307       1   \n",
       "\n",
       "       Color1  Color2  Color3  MaturitySize  ...  Health  Quantity  Fee  \\\n",
       "0           1       7       0             1  ...       1         1  100   \n",
       "1           1       2       0             2  ...       1         1    0   \n",
       "2           2       7       0             2  ...       1         1    0   \n",
       "3           1       2       0             2  ...       1         1  150   \n",
       "4           1       0       0             2  ...       1         1    0   \n",
       "5           5       6       0             2  ...       1         1    0   \n",
       "6           1       0       0             2  ...       1         1  300   \n",
       "7           1       2       7             2  ...       1         6    0   \n",
       "8           6       0       0             2  ...       1         1    0   \n",
       "9           1       7       0             2  ...       1         1    0   \n",
       "10          1       2       7             2  ...       1         1    0   \n",
       "11          1       2       5             3  ...       1         1   50   \n",
       "12          2       5       6             2  ...       1         1    0   \n",
       "13          1       6       7             1  ...       1         7    0   \n",
       "14          2       5       7             2  ...       1         1    0   \n",
       "15          1       7       0             2  ...       1         1    0   \n",
       "16          2       0       0             1  ...       1         1    0   \n",
       "17          2       0       0             2  ...       1         1   10   \n",
       "18          1       0       0             2  ...       1         1    0   \n",
       "19          1       2       7             1  ...       1         5    0   \n",
       "20          2       7       0             2  ...       1         1    0   \n",
       "21          6       0       0             2  ...       1         3    0   \n",
       "22          3       6       7             2  ...       1        10    0   \n",
       "23          1       2       7             2  ...       1         1    0   \n",
       "24          2       7       0             1  ...       1         1    0   \n",
       "25          3       0       0             3  ...       1         1    0   \n",
       "26          3       0       0             2  ...       1         1    0   \n",
       "27          1       0       0             2  ...       1         1    0   \n",
       "28          1       2       0             3  ...       1         1    1   \n",
       "29          2       7       0             1  ...       1         1    0   \n",
       "...       ...     ...     ...           ...  ...     ...       ...  ...   \n",
       "14963       1       0       0             2  ...       1         1   50   \n",
       "14964       6       7       0             2  ...       1         1    0   \n",
       "14965       1       0       0             1  ...       2         1    0   \n",
       "14966       1       2       0             1  ...       1         1    0   \n",
       "14967       2       4       0             1  ...       1         1    0   \n",
       "14968       3       7       0             2  ...       1         2   30   \n",
       "14969       1       7       0             2  ...       1         1    0   \n",
       "14970       2       5       0             2  ...       1         2    0   \n",
       "14971       3       7       0             3  ...       1         1    0   \n",
       "14972       6       0       0             2  ...       1         1    0   \n",
       "14973       2       7       0             2  ...       1         1    0   \n",
       "14974       1       2       7             2  ...       1         1    0   \n",
       "14975       2       7       0             2  ...       1         1    0   \n",
       "14976       1       7       0             2  ...       1         2   50   \n",
       "14977       1       2       7             1  ...       1         1    0   \n",
       "14978       2       0       0             2  ...       1         1    0   \n",
       "14979       1       7       0             2  ...       1         1    0   \n",
       "14980       2       0       0             3  ...       1         1    0   \n",
       "14981       2       7       0             2  ...       1         1    0   \n",
       "14982       1       4       7             2  ...       1         3    0   \n",
       "14983       1       2       7             2  ...       1         1    0   \n",
       "14984       2       5       0             2  ...       1         1    0   \n",
       "14985       2       3       7             2  ...       1         1    0   \n",
       "14986       5       6       7             2  ...       1         1    0   \n",
       "14987       1       7       0             1  ...       1         1    0   \n",
       "14988       1       0       0             2  ...       1         4    0   \n",
       "14989       1       4       7             2  ...       1         2    0   \n",
       "14990       5       6       7             3  ...       1         5   30   \n",
       "14991       4       7       0             1  ...       1         1    0   \n",
       "14992       2       0       0             2  ...       1         1    0   \n",
       "\n",
       "       State                         RescuerID  VideoAmt  \\\n",
       "0      41326  8480853f516546f6cf33aa88cd76c379         0   \n",
       "1      41401  3082c7125d8fb66f7dd4bff4192c8b14         0   \n",
       "2      41326  fa90fa5b1ee11c86938398b60abc32cb         0   \n",
       "3      41401  9238e4f44c71a75282e62f7136c6b240         0   \n",
       "4      41326  95481e953f8aed9ec3d16fc4509537e8         0   \n",
       "5      41326  22fe332bf9c924d4718005891c63fbed         0   \n",
       "6      41326  1e0b5a458b5b77f5af581d57ebf570b3         0   \n",
       "7      41326  1fba5f6e5480946254590d48f9c5198d         0   \n",
       "8      41326  d8af7afece71334473575c9f70daf00d         0   \n",
       "9      41326  1f3f36e4b18e94855b3e88af0852fdc4         0   \n",
       "10     41401  9238e4f44c71a75282e62f7136c6b240         0   \n",
       "11     41326  a9caef3f98e67bfac9093cca79e20b93         0   \n",
       "12     41326  db784cbcf321e1d8856b312638b94113         0   \n",
       "13     41326  2c118b2a1d1b4cf1f735089c7c0a07c0         0   \n",
       "14     41401  b609c40c6c840db208b149a19b856f86         0   \n",
       "15     41326  39112c637c80a6055e8ec544416abffe         0   \n",
       "16     41326  58e3aa0b4b78e8879f81774ede0646fe         0   \n",
       "17     41330  4e3dec1544d1407fce5d65fd0f037e26         0   \n",
       "18     41401  9238e4f44c71a75282e62f7136c6b240         0   \n",
       "19     41326  b752f78276215f44581eeb6eea1e63bc         0   \n",
       "20     41326  a042471e0f43f2cf707104a1a138a7df         0   \n",
       "21     41326  fa7cd6caa034d4332fc75d70807e83a3         0   \n",
       "22     41401  97be67995b53f86f64be212c867009fa         0   \n",
       "23     41326  aa66486163b6cbc25ea62a34b11c9b91         0   \n",
       "24     41401  b8853c71b981104f1ef126e51387b616         0   \n",
       "25     41326  001e42763024f9d4abe31e79472b1827         0   \n",
       "26     41401  1b9bb5275677d26b00604f24439c81fc         0   \n",
       "27     41326  2f846fb8f87a25678374e193559d83c9         0   \n",
       "28     41326  cbc97ee98ae458e5deecedbc648e90d2         0   \n",
       "29     41327  86552e2f34c929a01f7841cbd8865b20         0   \n",
       "...      ...                               ...       ...   \n",
       "14963  41326  966c41ae3a2427fd7882e899525f8b4e         0   \n",
       "14964  41401  fbd0f7634f117795c5b9e8315f439015         0   \n",
       "14965  41401  5f8e74e78344c71b197f65e66c0f364b         0   \n",
       "14966  41326  66044942690776d858708bfc7c166078         1   \n",
       "14967  41326  8cd39d5ad272972c91cc61f4bde61ef7         0   \n",
       "14968  41326  4d2400be2e2e78265f5c84345b7a3415         0   \n",
       "14969  41326  eaad8f97dc1db8c0fb22110c79e3738a         0   \n",
       "14970  41401  aab827a9ea617772101d6a7610a46faa         0   \n",
       "14971  41332  37abe885a6f7048218164ec420e8e2c2         0   \n",
       "14972  41401  ee2747ce26468ec44c7194e7d1d9dad9         0   \n",
       "14973  41326  b53c34474d9e24574bcec6a3d3306a0d         0   \n",
       "14974  41326  d354f29091eed622077faaa0915b1c41         0   \n",
       "14975  41327  fd970cc91d06d82eebf046340137b272         0   \n",
       "14976  41326  a9213c8947a57403d0ad1df5d3bee5ad         0   \n",
       "14977  41326  5f86038e50ce0def545e64f9a06ab5e2         0   \n",
       "14978  41401  c00756f2bdd8fa88fc9f07a8309f7d5d         0   \n",
       "14979  41326  8b6c5cd067ada5f54ca5ffc7f7b5d896         0   \n",
       "14980  41326  42fa36434aabf0e23fe579cdf84daf4a         0   \n",
       "14981  41326  001e42763024f9d4abe31e79472b1827         0   \n",
       "14982  41336  d73b10f170720b7edc3c12fc93b1fc63         0   \n",
       "14983  41326  fa90fa5b1ee11c86938398b60abc32cb         0   \n",
       "14984  41324  c8ea0bc42e630c72747986c4c0ce36aa         0   \n",
       "14985  41326  719987dce7aeb027fdfa91b480800199         0   \n",
       "14986  41401  90569c3f7cb0af35cba5dac82c0ac9d7         0   \n",
       "14987  41401  79309f4027f2fedb4349a298c69fe56f         0   \n",
       "14988  41326  61c84bd7bcb6fb31d2d480b1bcf9682e         0   \n",
       "14989  41326  1d5096c4a5e159a3b750c5cfcf6ceabf         0   \n",
       "14990  41326  6f40a7acfad5cc0bb3e44591ea446c05         0   \n",
       "14991  41336  c311c0c569245baa147d91fa4e351ae4         0   \n",
       "14992  41332  9ed1d5493d223eaa5024c1a031dbc9c2         0   \n",
       "\n",
       "                                             Description      PetID PhotoAmt  \\\n",
       "0      Nibble is a 3+ month old ball of cuteness. He ...  86e1089a3      1.0   \n",
       "1      I just found it alone yesterday near my apartm...  6296e909a      2.0   \n",
       "2      Their pregnant mother was dumped by her irresp...  3422e4906      7.0   \n",
       "3      Good guard dog, very alert, active, obedience ...  5842f1ff5      8.0   \n",
       "4      This handsome yet cute boy is up for adoption....  850a43f90      3.0   \n",
       "5      This is a stray kitten that came to my house. ...  d24c30b4b      2.0   \n",
       "6      anyone within the area of ipoh or taiping who ...  1caa6fcdb      3.0   \n",
       "7      Siu Pak just give birth on 13/6/10 to 6puppies...  97aa9eeac      9.0   \n",
       "8      healthy and active, feisty kitten found in nei...  c06d167ca      6.0   \n",
       "9      Very manja and gentle stray cat found, we woul...  7a0942d61      2.0   \n",
       "10     For serious adopter, please do sms or call for...  8b693ca84      7.0   \n",
       "11     Kali is a super playful kitten who is on the g...  8e76c8e39      2.0   \n",
       "12     Peanut was an abused puppy until he was rescue...  aaedd873d      1.0   \n",
       "13     Hi Pet Lovers! This is my first posting and I ...  4a9793dfb      1.0   \n",
       "14     Lost Dog Found (Bandar Menjalara, Kepong／Taman...  c02be41e6      2.0   \n",
       "15     We moved out of our apartment to a landed home...  1fd342e17      2.0   \n",
       "16               to be spayed on /12 adorable & friendly  b38a74866      1.0   \n",
       "17     shes active... she can obey wht command that u...  f9d07d5fa      2.0   \n",
       "18     This cutie dumped by it's owner at the market ...  1c92ce464      8.0   \n",
       "19     Birth Date: Oct 30th Kitty 1, Melly -Female Sa...  b10e7605a      1.0   \n",
       "20     Godiva was rescued in Serdang residential area...  6436c1a59      7.0   \n",
       "21     Three puppies abandoned on the street, picked ...  234a5a54c      5.0   \n",
       "22     My cats name is Kenit, Kenot,Owen, Keyad, Manj...  1bc0f89d8      0.0   \n",
       "23     Donut is a friendly doggie and very domesticat...  1bf24d8be      0.0   \n",
       "24     hello cikenets fans, i just wanna inform that ...  988988d5b     19.0   \n",
       "25     Garfield is a very large cat. Needs daily groo...  cf7d3eec0      3.0   \n",
       "26     healthy toilet trained cute easy to look after...  85fc3c314     11.0   \n",
       "27     Just saved this kitten from the street, but i ...  efbf1703a      2.0   \n",
       "28     healthy and active , skinny and tall, as the m...  7843a9dca      0.0   \n",
       "29     This kitten found at the roadside. Stay there ...  d341fbfd6      1.0   \n",
       "...                                                  ...        ...      ...   \n",
       "14963  Pls adopt this cat, mix maincoone, so active.....  3b3b37546      2.0   \n",
       "14964  He's lovely, calm, friendly, quiet, sweet, int...  36e02d379      5.0   \n",
       "14965  Very sweet (hence the name) and curious about ...  9ca247f84      0.0   \n",
       "14966  stray kitten together with 4 other siblings. n...  8dc7b3ffa      1.0   \n",
       "14967  Doremon is a very LOVING, HEALTHY, PLAYFUL AND...  fddd6ef11      1.0   \n",
       "14968  Can anyone give these cute kittens a loving an...  e50d881a7      2.0   \n",
       "14969  Found this cat near my office few months ago w...  a237fba21      3.0   \n",
       "14970  One stray dog came to my house and gave birth ...  82ee2f3e9      3.0   \n",
       "14971  Omari is a well behaved house cat with soft fl...  0deeed2d9      1.0   \n",
       "14972  kofi's clever, cute, and compact.As a testamen...  b3101cf5c      3.0   \n",
       "14973                                       For Adoption  941880ea3      5.0   \n",
       "14974  It is my home away dogs born. Dog mother to ta...  c4bc89962      6.0   \n",
       "14975  She was hand raise since she was 2 days old. S...  c7d02bfca      3.0   \n",
       "14976  hey there 2 ekor kucing yang sudah lama dibela...  98ae7d88d      3.0   \n",
       "14977  Very friendly, close to human, could be good f...  472e86a83      2.0   \n",
       "14978  These puppies were rescued from factory area.....  ac6d69d99      5.0   \n",
       "14979  SambaBoy makes a good companion dog. Needs lov...  b7fcfa1e6      5.0   \n",
       "14980  I found her by the side of the road and too he...  fc601e041      1.0   \n",
       "14981  Patch is for free adoption. If you want to ado...  23874f644      2.0   \n",
       "14982  Homeless souls awaiting for a good home..We do...  54b6c1d72     16.0   \n",
       "14983  He is very intelligent and cute. Fluffy and lo...  cca88204d      7.0   \n",
       "14984                              abandoned,but healthy  f5dc70d35      1.0   \n",
       "14985  been at my place for a while..am hoping to fin...  e7f7066b6      0.0   \n",
       "14986  1 month old white + grey kitten for adoption n...  36e7f8d83      1.0   \n",
       "14987                                              ooooo  4d163b731      1.0   \n",
       "14988  I have 4 kittens that need to be adopt urgentl...  dc0935a84      3.0   \n",
       "14989  Serato(female cat- 3 color) is 4 years old and...  a01ab5b30      3.0   \n",
       "14990  Mix breed, good temperament kittens. Love huma...  d981b6395      5.0   \n",
       "14991  she is very shy..adventures and independent..s...  e4da1c9e4      3.0   \n",
       "14992  Fili just loves laying around and also loves b...  a83d95ead      1.0   \n",
       "\n",
       "       AdoptionSpeed  \n",
       "0                  2  \n",
       "1                  0  \n",
       "2                  3  \n",
       "3                  2  \n",
       "4                  2  \n",
       "5                  2  \n",
       "6                  1  \n",
       "7                  3  \n",
       "8                  1  \n",
       "9                  4  \n",
       "10                 1  \n",
       "11                 1  \n",
       "12                 2  \n",
       "13                 1  \n",
       "14                 2  \n",
       "15                 4  \n",
       "16                 3  \n",
       "17                 4  \n",
       "18                 2  \n",
       "19                 4  \n",
       "20                 2  \n",
       "21                 4  \n",
       "22                 4  \n",
       "23                 4  \n",
       "24                 1  \n",
       "25                 2  \n",
       "26                 1  \n",
       "27                 2  \n",
       "28                 3  \n",
       "29                 2  \n",
       "...              ...  \n",
       "14963              1  \n",
       "14964              4  \n",
       "14965              1  \n",
       "14966              2  \n",
       "14967              1  \n",
       "14968              4  \n",
       "14969              4  \n",
       "14970              3  \n",
       "14971              3  \n",
       "14972              1  \n",
       "14973              2  \n",
       "14974              2  \n",
       "14975              4  \n",
       "14976              3  \n",
       "14977              4  \n",
       "14978              4  \n",
       "14979              4  \n",
       "14980              4  \n",
       "14981              3  \n",
       "14982              3  \n",
       "14983              2  \n",
       "14984              4  \n",
       "14985              4  \n",
       "14986              3  \n",
       "14987              0  \n",
       "14988              2  \n",
       "14989              4  \n",
       "14990              3  \n",
       "14991              4  \n",
       "14992              3  \n",
       "\n",
       "[14993 rows x 24 columns]>"
      ]
     },
     "execution_count": 8,
     "metadata": {},
     "output_type": "execute_result"
    }
   ],
   "source": [
    "pet_data.describe"
   ]
  },
  {
   "cell_type": "markdown",
   "metadata": {},
   "source": [
    "### 1. Type - Ratio of Cat/Dog"
   ]
  },
  {
   "cell_type": "code",
   "execution_count": 12,
   "metadata": {},
   "outputs": [
    {
     "data": {
      "image/png": "[encoded data removed]",
      "text/plain": [
       "<Figure size 432x288 with 1 Axes>"
      ]
     },
     "metadata": {
      "needs_background": "light"
     },
     "output_type": "display_data"
    }
   ],
   "source": [
    "sns.countplot(x=\"Type\", data=pet_data)\n",
    "plt.title(\"Type of Pets\")\n",
    "plt.show()"
   ]
  },
  {
   "cell_type": "markdown",
   "metadata": {},
   "source": [
    "### 2. Age"
   ]
  },
  {
   "cell_type": "code",
   "execution_count": 5,
   "metadata": {},
   "outputs": [
    {
     "data": {
      "image/png": "[encoded data removed]",
      "text/plain": [
       "<Figure size 432x288 with 1 Axes>"
      ]
     },
     "metadata": {
      "needs_background": "light"
     },
     "output_type": "display_data"
    }
   ],
   "source": [
    "sns.countplot(x=\"Age\", data=pet_data)\n",
    "plt.title(\"Age Histogram\")\n",
    "plt.show()"
   ]
  },
  {
   "cell_type": "markdown",
   "metadata": {},
   "source": [
    "### 3. Gender"
   ]
  },
  {
   "cell_type": "code",
   "execution_count": 7,
   "metadata": {},
   "outputs": [
    {
     "data": {
      "image/png": "[encoded data removed]",
      "text/plain": [
       "<Figure size 432x288 with 1 Axes>"
      ]
     },
     "metadata": {
      "needs_background": "light"
     },
     "output_type": "display_data"
    }
   ],
   "source": [
    "sns.countplot(x=\"Gender\", data=pet_data)\n",
    "plt.title(\"Gender of Pets\")\n",
    "plt.show()"
   ]
  },
  {
   "cell_type": "markdown",
   "metadata": {},
   "source": [
    "### 4. Maturity Size"
   ]
  },
  {
   "cell_type": "code",
   "execution_count": 9,
   "metadata": {},
   "outputs": [
    {
     "data": {
      "image/png": "[encoded data removed]",
      "text/plain": [
       "<Figure size 432x288 with 1 Axes>"
      ]
     },
     "metadata": {
      "needs_background": "light"
     },
     "output_type": "display_data"
    }
   ],
   "source": [
    "sns.countplot(x=\"MaturitySize\", data=pet_data)\n",
    "plt.title(\"MaturitySizer of Pets\")\n",
    "plt.show()"
   ]
  },
  {
   "cell_type": "markdown",
   "metadata": {},
   "source": [
    "### 5. Fur Length"
   ]
  },
  {
   "cell_type": "code",
   "execution_count": 10,
   "metadata": {},
   "outputs": [
    {
     "data": {
      "image/png": "[encoded data removed]",
      "text/plain": [
       "<Figure size 432x288 with 1 Axes>"
      ]
     },
     "metadata": {
      "needs_background": "light"
     },
     "output_type": "display_data"
    }
   ],
   "source": [
    "sns.countplot(x=\"FurLength\", data=pet_data)\n",
    "plt.title(\"FurLength of Pets\")\n",
    "plt.show()"
   ]
  },
  {
   "cell_type": "markdown",
   "metadata": {},
   "source": [
    "Vaccinated         int64\n",
    "Dewormed           int64\n",
    "Sterilized         int64\n",
    "Health             int64\n",
    "Quantity           int64\n",
    "Fee                int64\n",
    "State              int64\n",
    "RescuerID         object\n",
    "VideoAmt           int64\n",
    "Description       object\n",
    "PetID             object\n",
    "PhotoAmt         float64\n",
    "AdoptionSpeed      int64"
   ]
  },
  {
   "cell_type": "markdown",
   "metadata": {},
   "source": [
    "### 6. Vaccinated"
   ]
  },
  {
   "cell_type": "code",
   "execution_count": 11,
   "metadata": {},
   "outputs": [
    {
     "data": {
      "image/png": "[encoded data removed]",
      "text/plain": [
       "<Figure size 432x288 with 1 Axes>"
      ]
     },
     "metadata": {
      "needs_background": "light"
     },
     "output_type": "display_data"
    }
   ],
   "source": [
    "sns.countplot(x=\"Vaccinated\", data=pet_data)\n",
    "plt.title(\"Vaccinated of Pets\")\n",
    "plt.show()"
   ]
  },
  {
   "cell_type": "markdown",
   "metadata": {},
   "source": [
    "### 7. Dewormed"
   ]
  },
  {
   "cell_type": "code",
   "execution_count": 13,
   "metadata": {},
   "outputs": [
    {
     "data": {
      "image/png": "[encoded data removed]",
      "text/plain": [
       "<Figure size 432x288 with 1 Axes>"
      ]
     },
     "metadata": {
      "needs_background": "light"
     },
     "output_type": "display_data"
    }
   ],
   "source": [
    "sns.countplot(x=\"Dewormed\", data=pet_data)\n",
    "plt.title(\"Dewormed of Pets\")\n",
    "plt.show()"
   ]
  },
  {
   "cell_type": "markdown",
   "metadata": {},
   "source": [
    "### 8. Sterilized"
   ]
  },
  {
   "cell_type": "code",
   "execution_count": 14,
   "metadata": {},
   "outputs": [
    {
     "data": {
      "image/png": "[encoded data removed]",
      "text/plain": [
       "<Figure size 432x288 with 1 Axes>"
      ]
     },
     "metadata": {
      "needs_background": "light"
     },
     "output_type": "display_data"
    }
   ],
   "source": [
    "sns.countplot(x=\"Sterilized\", data=pet_data)\n",
    "plt.title(\"Dewormed of Pets\")\n",
    "plt.show()"
   ]
  },
  {
   "cell_type": "markdown",
   "metadata": {},
   "source": [
    "### 9. Health"
   ]
  },
  {
   "cell_type": "code",
   "execution_count": 15,
   "metadata": {},
   "outputs": [
    {
     "data": {
      "image/png": "[encoded data removed]",
      "text/plain": [
       "<Figure size 432x288 with 1 Axes>"
      ]
     },
     "metadata": {
      "needs_background": "light"
     },
     "output_type": "display_data"
    }
   ],
   "source": [
    "sns.countplot(x=\"Health\", data=pet_data)\n",
    "plt.title(\"Dewormed of Pets\")\n",
    "plt.show()"
   ]
  },
  {
   "cell_type": "markdown",
   "metadata": {},
   "source": [
    "### 10. Fee"
   ]
  },
  {
   "cell_type": "code",
   "execution_count": 16,
   "metadata": {},
   "outputs": [
    {
     "data": {
      "image/png": "[encoded data removed]",
      "text/plain": [
       "<Figure size 432x288 with 1 Axes>"
      ]
     },
     "metadata": {
      "needs_background": "light"
     },
     "output_type": "display_data"
    }
   ],
   "source": [
    "sns.countplot(x=\"Fee\", data=pet_data)\n",
    "plt.title(\"Dewormed of Pets\")\n",
    "plt.show()"
   ]
  },
  {
   "cell_type": "code",
   "execution_count": null,
   "metadata": {},
   "outputs": [],
   "source": []
  }
 ],
 "metadata": {
  "kernelspec": {
   "display_name": "Python 3",
   "language": "python",
   "name": "python3"
  },
  "language_info": {
   "codemirror_mode": {
    "name": "ipython",
    "version": 3
   },
   "file_extension": ".py",
   "mimetype": "text/x-python",
   "name": "python",
   "nbconvert_exporter": "python",
   "pygments_lexer": "ipython3",
   "version": "3.7.2"
  }
 },
 "nbformat": 4,
 "nbformat_minor": 2
}
